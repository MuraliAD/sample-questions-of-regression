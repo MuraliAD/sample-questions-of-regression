{
 "cells": [
  {
   "cell_type": "code",
   "execution_count": 12,
   "id": "e979c8da",
   "metadata": {},
   "outputs": [
    {
     "name": "stdout",
     "output_type": "stream",
     "text": [
      "Coefficients: [0.         1.01711241]\n"
     ]
    }
   ],
   "source": [
    "##### 1     #1. Implement a function to train a linear regression model using stochastic gradient \n",
    "#descent (SGD) with mini-batch updates. The function should include options for \n",
    "#different learning rates, batch sizes, and a regularization term\n",
    "\n",
    "\n",
    "\n",
    "import numpy as np\n",
    "from sklearn.linear_model import SGDRegressor\n",
    "from sklearn.preprocessing import StandardScaler\n",
    "\n",
    "def train_linear_regression(X, y, learning_rate=0.01, batch_size=32, regularization=None, max_iterations=1000):\n",
    "    \n",
    "    # Standardize the input features for better convergence\n",
    "    scaler = StandardScaler()\n",
    "    X_scaled = scaler.fit_transform(X)\n",
    "    \n",
    "    # Initialize the SGDRegressor with the given parameters\n",
    "    model = SGDRegressor(\n",
    "        loss='squared_error',  # Change this to 'squared_error'\n",
    "        learning_rate='constant',\n",
    "        eta0=learning_rate,\n",
    "        alpha=regularization,\n",
    "        max_iter=max_iterations,\n",
    "        tol=1e-3,\n",
    "        random_state=np.random.RandomState(42)  # Use NumPy's random state for reproducibility\n",
    "    )\n",
    "    \n",
    "    # Train the model in mini-batches\n",
    "    n_samples = X_scaled.shape[0]\n",
    "    for _ in range(max_iterations):\n",
    "        indices = np.random.permutation(n_samples)\n",
    "        for start_idx in range(0, n_samples, batch_size):\n",
    "            end_idx = start_idx + batch_size\n",
    "            batch_indices = indices[start_idx:end_idx]\n",
    "            X_batch = X_scaled[batch_indices]\n",
    "            y_batch = y[batch_indices]\n",
    "            model.partial_fit(X_batch, y_batch)\n",
    "    \n",
    "    return model\n",
    "\n",
    "X = np.array([[1, 1], [1, 2], [1, 3], [1, 4]])\n",
    "y = np.array([3, 4, 5, 6])\n",
    "learning_rate = 0.01\n",
    "batch_size = 2\n",
    "num_iterations = 1000\n",
    "regularization_term = 0.1\n",
    "\n",
    "# Train the linear regression model\n",
    "model = train_linear_regression(X, y, learning_rate, batch_size, regularization_term, num_iterations)\n",
    "model.coef_\n",
    "# Get the coefficients of the trained model\n",
    "coefficients = model.coef_\n",
    "print(\"Coefficients:\", coefficients)\n"
   ]
  },
  {
   "cell_type": "code",
   "execution_count": 13,
   "id": "9032c8c8",
   "metadata": {},
   "outputs": [
    {
     "data": {
      "text/plain": [
       "array([0.  , 0.92])"
      ]
     },
     "execution_count": 13,
     "metadata": {},
     "output_type": "execute_result"
    }
   ],
   "source": [
    "#####2 2. Write a function to implement linear regression with Lasso regularization (L1 \n",
    "#regularization) using coordinate descent. The function should allow for different \n",
    "#regularization parameters and tolerance levels for convergence.\n",
    "\n",
    "\n",
    "\n",
    "\n",
    "from sklearn.linear_model import Lasso\n",
    "X = [[1, 1], [1, 2], [1, 3], [1, 4]]\n",
    "y = [3, 4, 5, 6]\n",
    "regularization_param = 0.1\n",
    "tolerance = 0.001\n",
    "def train_linear_regression_with_lasso(X, y, alpha, tol):\n",
    "    \n",
    "    \n",
    "     # Initialize the Lasso model with the given parameters\n",
    "    model = Lasso(alpha=alpha,\n",
    "    tol=tol,\n",
    "    random_state=0)\n",
    "    # Train the model\n",
    "    model.fit(X, y)\n",
    "    return model\n",
    "model = train_linear_regression_with_lasso(X, y,regularization_param, tolerance)\n",
    "model.coef_\n"
   ]
  },
  {
   "cell_type": "code",
   "execution_count": 12,
   "id": "77af38f7",
   "metadata": {},
   "outputs": [
    {
     "data": {
      "text/plain": [
       "array([[2.23260945, 0.        ]])"
      ]
     },
     "execution_count": 12,
     "metadata": {},
     "output_type": "execute_result"
    }
   ],
   "source": [
    "####3\n",
    "\n",
    "#Create a program that performs logistic regression with L1 regularization (Lasso) using coordinate descent.\n",
    "    \n",
    "import numpy as np\n",
    "from sklearn.linear_model import LogisticRegression\n",
    "X = [[1, 2], [2, 3], [3, 4], [4, 5]]\n",
    "y = [0, 0, 1, 1]\n",
    "regularization_param = 0.1\n",
    "tolerance = 0.001\n",
    "def logistic_regression_with_l1_regularization(X, y, regularization_param, tolerance):\n",
    "    \n",
    "    \n",
    " # Create the Logistic Regression model with L1 regularization\n",
    "    model = LogisticRegression(penalty='l1',C=1/regularization_param,tol=tolerance,solver='liblinear',random_state=0)\n",
    "    # Train the model\n",
    "    model.fit(X, y)\n",
    "    return model\n",
    "model = logistic_regression_with_l1_regularization(X, y,regularization_param,tolerance)\n",
    "model.coef_\n"
   ]
  },
  {
   "cell_type": "code",
   "execution_count": 14,
   "id": "2f65e60e",
   "metadata": {},
   "outputs": [
    {
     "name": "stdout",
     "output_type": "stream",
     "text": [
      "Area Under the ROC Curve (AUC): 1.00\n"
     ]
    }
   ],
   "source": [
    "#####4  #ROC curve\n",
    "from sklearn.metrics import roc_auc_score\n",
    "y_true = [0, 1, 1, 0, 1]\n",
    "y_pred = [0.2, 0.8, 0.6, 0.3, 0.9]\n",
    "def calculate_auc(y_true, y_pred):\n",
    "    \n",
    "    auc = roc_auc_score(y_true, y_pred)\n",
    "    return auc\n",
    "auc_score = calculate_auc(y_true, y_pred)\n",
    "print(\"Area Under the ROC Curve (AUC): {:.2f}\".format(auc_score))\n",
    "           "
   ]
  },
  {
   "cell_type": "code",
   "execution_count": 1,
   "id": "7c9818f9",
   "metadata": {},
   "outputs": [
    {
     "name": "stdout",
     "output_type": "stream",
     "text": [
      "Log Loss (Binary Cross-Entropy): 0.22708064055624455\n"
     ]
    }
   ],
   "source": [
    "#####5   5. Write a program to calculate the log loss (binary cross-entropy) for a logistic regression model \n",
    "#using vectorized operations.\n",
    "\n",
    "import numpy as np\n",
    "from sklearn.metrics import log_loss\n",
    "# Input data\n",
    "y_true = np.array([0, 1, 1, 0])\n",
    "y_pred = np.array([0.2, 0.8, 0.9, 0.3])\n",
    "# Ensure y_pred is within [epsilon, 1-epsilon] to avoid log(0) and log(1) issues\n",
    "epsilon = 1e-15\n",
    "y_pred = np.clip(y_pred, epsilon, 1 - epsilon)\n",
    "# Calculate the log loss (binary cross-entropy)\n",
    "logloss = log_loss(y_true, y_pred)\n",
    "print(\"Log Loss (Binary Cross-Entropy):\", logloss)"
   ]
  },
  {
   "cell_type": "code",
   "execution_count": 14,
   "id": "2e3d40c2",
   "metadata": {},
   "outputs": [
    {
     "data": {
      "text/plain": [
       "array([1, 0, 1])"
      ]
     },
     "execution_count": 14,
     "metadata": {},
     "output_type": "execute_result"
    }
   ],
   "source": [
    "####6  Write a program to predict the class labels for new input data using a trained decision \n",
    "#tree classifier.\n",
    "\n",
    "from sklearn.tree import DecisionTreeClassifier\n",
    "\n",
    "# Input data\n",
    "X_train = [[1, 2], [2, 3], [3, 4], [4, 5]]\n",
    "y = [0, 0, 1, 1]\n",
    "X_val = [[2, 4], [1, 3], [3, 5]]\n",
    "\n",
    "# Create the decision tree classifier with CART algorithm\n",
    "clf = DecisionTreeClassifier(random_state=0)\n",
    "\n",
    "# Train the model using the input data\n",
    "clf.fit(X_train, y)\n",
    "predictions = clf.predict(X_val)\n",
    "predictions\n",
    "\n",
    "\n"
   ]
  },
  {
   "cell_type": "code",
   "execution_count": 30,
   "id": "b5674bfb",
   "metadata": {},
   "outputs": [
    {
     "name": "stdout",
     "output_type": "stream",
     "text": [
      "Decision Tree Text Representation:\n",
      "|--- Feature 2 <= 3.50\n",
      "|   |--- class: 0\n",
      "|--- Feature 2 >  3.50\n",
      "|   |--- class: 1\n",
      "\n"
     ]
    },
    {
     "data": {
      "image/png": "[encoded data removed]",
      "text/plain": [
       "<Figure size 1000x600 with 1 Axes>"
      ]
     },
     "metadata": {},
     "output_type": "display_data"
    }
   ],
   "source": [
    "\n",
    "####7  Create a function to visualize a decision tree using a graph representation.\n",
    "import matplotlib.pyplot as plt\n",
    "from sklearn.tree import DecisionTreeClassifier, plot_tree, export_text\n",
    "import numpy as np\n",
    "# Input data\n",
    "X = [[1, 2], [2, 3], [3, 4], [4, 5]]\n",
    "y = [0, 0, 1, 1]\n",
    "def visualize_decision_tree(X, y):\n",
    "    \n",
    "    \n",
    " # Create the decision tree classifier with CART algorithm\n",
    "    clf = DecisionTreeClassifier()\n",
    "\n",
    " # Train the model using the input data\n",
    "    clf.fit(X, y)\n",
    " # Obtain a text representation of the decision tree\n",
    "    tree_text = export_text(clf, feature_names=[f'Feature {i+1}' for i in range(len(X[0]))])\n",
    "    print(\"Decision Tree Text Representation:\")\n",
    "    print(tree_text)\n",
    " # Create a graphical representation of the decision tree\n",
    "    plt.figure(figsize=(10, 6))\n",
    "    plot_tree(clf,filled=True,feature_names=[f'Feature {i+1}' for i in range(len(X[0]))],class_names=['Class 0', 'Class 1'])\n",
    "    plt.show()\n",
    "# Call the visualization function\n",
    "visualize_decision_tree(X, y)\n"
   ]
  },
  {
   "cell_type": "code",
   "execution_count": null,
   "id": "f5925754",
   "metadata": {},
   "outputs": [],
   "source": []
  },
  {
   "cell_type": "code",
   "execution_count": 31,
   "id": "98878c12",
   "metadata": {},
   "outputs": [
    {
     "data": {
      "text/plain": [
       "array([0, 0, 0, 0, 1, 1], dtype=int64)"
      ]
     },
     "execution_count": 31,
     "metadata": {},
     "output_type": "execute_result"
    }
   ],
   "source": [
    "#####8 Write a program to perform hierarchical clustering using the complete linkage method.\n",
    "\n",
    "\n",
    "import numpy as np\n",
    "from sklearn.cluster import AgglomerativeClustering\n",
    "import matplotlib.pyplot as plt\n",
    "# Input data\n",
    "X = np.array([[1, 2], [2, 3], [10, 12], [11, 13], [20, 25], [22, 24]])\n",
    "# Perform hierarchical clustering using complete linkage\n",
    "clustering = AgglomerativeClustering(linkage='complete')\n",
    "clustering.fit(X)\n",
    "# Get the cluster assignments for each data point\n",
    "labels = clustering.labels_\n",
    "labels"
   ]
  },
  {
   "cell_type": "code",
   "execution_count": 3,
   "id": "8134c890",
   "metadata": {},
   "outputs": [
    {
     "data": {
      "text/plain": [
       "array([0, 0, 1, 1, 2, 2], dtype=int64)"
      ]
     },
     "execution_count": 3,
     "metadata": {},
     "output_type": "execute_result"
    }
   ],
   "source": [
    "######9 Implement a program to perform density-based clustering using the DBSCAN algorithm.\n",
    "\n",
    "\n",
    "\n",
    "from sklearn.cluster import DBSCAN\n",
    "import numpy as np\n",
    "# Input data\n",
    "X = np.array([[1, 2], [2, 3], [10, 12], [11, 13], [20, 25], [22, 24]])\n",
    "epsilon = 3\n",
    "min_samples = 2\n",
    "def perform_dbscan_clustering(X, epsilon, min_samples):\n",
    "    \n",
    " # Create a DBSCAN object with the specified epsilon and min_samples\n",
    "    dbscan = DBSCAN(eps=epsilon, min_samples=min_samples)\n",
    " # Perform clustering on the data\n",
    "    clustering_labels = dbscan.fit_predict(X)\n",
    " # Return the clustering labels\n",
    "    return clustering_labels\n",
    "# Perform DBSCAN clustering\n",
    "labels = perform_dbscan_clustering(X, epsilon, min_samples)\n",
    "labels\n"
   ]
  },
  {
   "cell_type": "code",
   "execution_count": 46,
   "id": "9891007a",
   "metadata": {},
   "outputs": [
    {
     "name": "stdout",
     "output_type": "stream",
     "text": [
      "Requirement already satisfied: scikit-fuzzy in c:\\users\\murali\\anaconda\\lib\\site-packages (0.4.2)\n",
      "Requirement already satisfied: scipy>=0.9.0 in c:\\users\\murali\\anaconda\\lib\\site-packages (from scikit-fuzzy) (1.9.1)\n",
      "Requirement already satisfied: networkx>=1.9.0 in c:\\users\\murali\\anaconda\\lib\\site-packages (from scikit-fuzzy) (2.8.4)\n",
      "Requirement already satisfied: numpy>=1.6.0 in c:\\users\\murali\\anaconda\\lib\\site-packages (from scikit-fuzzy) (1.23.5)\n",
      "Note: you may need to restart the kernel to use updated packages.\n"
     ]
    }
   ],
   "source": [
    "pip install scikit-fuzzy"
   ]
  },
  {
   "cell_type": "code",
   "execution_count": 24,
   "id": "a0ddcad2",
   "metadata": {},
   "outputs": [
    {
     "name": "stdout",
     "output_type": "stream",
     "text": [
      "cluster centres: [[ 1.49978898 21.00036145 10.50030209]\n",
      " [ 2.49980212 24.49974085 12.50033273]]\n"
     ]
    }
   ],
   "source": [
    "####10\n",
    "\n",
    "import skfuzzy as fuzz\n",
    "import numpy as np\n",
    "x=np.array([[1,2],[2,3],[10,12],[11,13],[20,25],[22,24]])\n",
    "c=3\n",
    "def fuzzy_clustering(x,c):\n",
    "    n_samples=x.shape[0]\n",
    "    n_features=x.shape[1]\n",
    "    max_iter=1000\n",
    "    fuzziness=2.0\n",
    "    epsilon=1e-6\n",
    "    cluster_centres=np.random.rand(c,n_samples)\n",
    "    cntr,u,_,_,_,_,_=fuzz.cluster.cmeans(x.T,c,m=fuzziness,error=epsilon,maxiter=max_iter,init=cluster_centres)\n",
    "    return cntr.T\n",
    "cc=fuzzy_clustering(x,c)\n",
    "print(\"cluster centres:\",cc)\n",
    "\n",
    "\n",
    "\n",
    "\n",
    "\n",
    "\n",
    "\n",
    "\n",
    "\n",
    "\n",
    "\n",
    "\n"
   ]
  },
  {
   "cell_type": "code",
   "execution_count": null,
   "id": "cdab5ec4",
   "metadata": {},
   "outputs": [],
   "source": []
  },
  {
   "cell_type": "code",
   "execution_count": null,
   "id": "9b603aa9",
   "metadata": {},
   "outputs": [],
   "source": []
  }
 ],
 "metadata": {
  "kernelspec": {
   "display_name": "Python 3 (ipykernel)",
   "language": "python",
   "name": "python3"
  },
  "language_info": {
   "codemirror_mode": {
    "name": "ipython",
    "version": 3
   },
   "file_extension": ".py",
   "mimetype": "text/x-python",
   "name": "python",
   "nbconvert_exporter": "python",
   "pygments_lexer": "ipython3",
   "version": "3.9.13"
  }
 },
 "nbformat": 4,
 "nbformat_minor": 5
}
